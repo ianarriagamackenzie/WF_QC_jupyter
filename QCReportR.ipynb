{
 "cells": [
  {
   "cell_type": "code",
   "execution_count": 1,
   "metadata": {
    "scrolled": true
   },
   "outputs": [
    {
     "name": "stderr",
     "output_type": "stream",
     "text": [
      "Registered S3 methods overwritten by 'ggplot2':\n",
      "  method         from \n",
      "  [.quosures     rlang\n",
      "  c.quosures     rlang\n",
      "  print.quosures rlang\n",
      "\n",
      "Attaching package: 'dplyr'\n",
      "\n",
      "The following objects are masked from 'package:stats':\n",
      "\n",
      "    filter, lag\n",
      "\n",
      "The following objects are masked from 'package:base':\n",
      "\n",
      "    intersect, setdiff, setequal, union\n",
      "\n"
     ]
    }
   ],
   "source": [
    "library(ggplot2)\n",
    "library(dplyr)\n",
    "library(tidyr)\n",
    "library(RColorBrewer)"
   ]
  },
  {
   "cell_type": "markdown",
   "metadata": {},
   "source": [
    "# Womans First Guatemala Methylation QC Report\n",
    "### Ian Arriaga MacKenzie\n",
    "\n",
    "Path To All Files:\\\n",
    "/nfs/storage/math/gross-s2/projects/guatemala/MEGA_backbone_Full_Project_08012018_Deliverable/Genetics\n",
    "\n",
    "Based on Wheeler GWAS QC Pipeline:\\\n",
    "https://hwheeler01.github.io/CompBio/GWAS_QC.html"
   ]
  },
  {
   "cell_type": "markdown",
   "metadata": {},
   "source": [
    "### Cleaning heterozygous haploid errors\n",
    "\n",
    "*Command:*\\\n",
    "plink1.9 --bfile /nfs/storage/math/gross-s2/projects/guatemala/MEGA_backbone_Full_Project_08012018_Deliverable/Genetics/cleaned_files/Borengasser_MEGA_07242018_noFail_SNPs_passing_QC --set-hh-missing --make-bed --out /nfs/storage/math/gross-s2/projects/guatemala/MEGA_backbone_Full_Project_08012018_Deliverable/Genetics/Ian_QC/QC1/QC_setHHmissing\n",
    "\n",
    "1612522 variants\\\n",
    "132 people (77 males, 55 females)\\\n",
    "17346 het. haploid genotypes present"
   ]
  },
  {
   "cell_type": "markdown",
   "metadata": {},
   "source": [
    "### Sex Check\n",
    "\n",
    "*Command:*\\\n",
    "plink1.9 --bfile /nfs/storage/math/gross-s2/projects/guatemala/MEGA_backbone_Full_Project_08012018_Deliverable/Genetics/Ian_QC/QC1/QC_setHHmissing --check-sex --out /nfs/storage/math/gross-s2/projects/guatemala/MEGA_backbone_Full_Project_08012018_Deliverable/Genetics/Ian_QC/QC2/QC_sexcheck\n",
    "\n",
    "1612522 variants\\\n",
    "132 people (77 males, 55 females)\\\n",
    "19759 Xchr and 0 Ychr variant(s) scanned, 7 problems detected.\\"
   ]
  },
  {
   "cell_type": "code",
   "execution_count": 3,
   "metadata": {
    "scrolled": true
   },
   "outputs": [
    {
     "data": {
      "image/png": "[encoded data removed]",
      "text/plain": [
       "plot without title"
      ]
     },
     "metadata": {},
     "output_type": "display_data"
    },
    {
     "data": {
      "image/png": "[encoded data removed]",
      "text/plain": [
       "plot without title"
      ]
     },
     "metadata": {},
     "output_type": "display_data"
    },
    {
     "data": {
      "image/png": "[encoded data removed]",
      "text/plain": [
       "plot without title"
      ]
     },
     "metadata": {},
     "output_type": "display_data"
    }
   ],
   "source": [
    "options(repr.plot.width=6, repr.plot.height=3)\n",
    "\n",
    "QCsexcheckA = read.csv(\"QC_sexcheck.sexcheck\", sep=\"\")\n",
    "QCsexcheckB = QCsexcheckA[order(QCsexcheckA$F),]\n",
    "QCsexcheckB$rank = seq(1, 132, by = 1)\n",
    "ggplot(QCsexcheckB, aes(rank, F)) +\n",
    "  geom_point(aes(color = factor(PEDSEX))) +\n",
    "  labs(title = 'Reported Sex', x = 'Ranked Samples', y = 'F Coefficient') +\n",
    "  theme(legend.title = element_blank()) +\n",
    "  geom_hline(yintercept = 0.2) +\n",
    "  geom_hline(yintercept = 0.8)\n",
    "ggplot(QCsexcheckB, aes(rank, F)) +\n",
    "  geom_point(aes(color = factor(SNPSEX))) +\n",
    "  labs(title = 'Imputed Sex', x = 'Ranked Samples', y = 'F Coefficient') +\n",
    "  theme(legend.title = element_blank()) +\n",
    "  geom_hline(yintercept = 0.2) +\n",
    "  geom_hline(yintercept = 0.8)\n",
    "ggplot(QCsexcheckB, aes(rank, F)) +\n",
    "  geom_point(aes(color = factor(STATUS))) +\n",
    "  labs(title = 'Problem Samples', x = 'Ranked Samples', y = 'F Coefficient') +\n",
    "  theme(legend.title = element_blank()) +\n",
    "  geom_hline(yintercept = 0.2) +\n",
    "  geom_hline(yintercept = 0.8)"
   ]
  },
  {
   "cell_type": "markdown",
   "metadata": {},
   "source": [
    "![image](..\\WF_QC_jupyter\\images\\problemsamplesframe.png)"
   ]
  },
  {
   "cell_type": "code",
   "execution_count": null,
   "metadata": {},
   "outputs": [],
   "source": []
  }
 ],
 "metadata": {
  "kernelspec": {
   "display_name": "R",
   "language": "R",
   "name": "ir"
  },
  "language_info": {
   "codemirror_mode": "r",
   "file_extension": ".r",
   "mimetype": "text/x-r-source",
   "name": "R",
   "pygments_lexer": "r",
   "version": "3.6.1"
  }
 },
 "nbformat": 4,
 "nbformat_minor": 4
}
